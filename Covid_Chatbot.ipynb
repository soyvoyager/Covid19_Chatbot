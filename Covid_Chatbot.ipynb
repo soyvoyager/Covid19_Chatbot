{
  "nbformat": 4,
  "nbformat_minor": 0,
  "metadata": {
    "colab": {
      "name": "Covid_Chatbot.ipynb",
      "provenance": [],
      "collapsed_sections": []
    },
    "kernelspec": {
      "name": "python3",
      "display_name": "Python 3"
    }
  },
  "cells": [
    {
      "cell_type": "code",
      "metadata": {
        "colab": {
          "base_uri": "https://localhost:8080/"
        },
        "id": "SuUG10BRG0op",
        "outputId": "05b15aee-b412-4dfe-bf46-2861814bbf57"
      },
      "source": [
        "pip install NLTK"
      ],
      "execution_count": 1,
      "outputs": [
        {
          "output_type": "stream",
          "text": [
            "Requirement already satisfied: NLTK in /usr/local/lib/python3.6/dist-packages (3.2.5)\n",
            "Requirement already satisfied: six in /usr/local/lib/python3.6/dist-packages (from NLTK) (1.15.0)\n"
          ],
          "name": "stdout"
        }
      ]
    },
    {
      "cell_type": "code",
      "metadata": {
        "id": "_1WrB_AmG9yi"
      },
      "source": [
        "import nltk\n",
        "import io\n",
        "import numpy as np\n",
        "import random\n",
        "import string\n",
        "import warnings\n",
        "warnings.filterwarnings('ignore')"
      ],
      "execution_count": 2,
      "outputs": []
    },
    {
      "cell_type": "code",
      "metadata": {
        "colab": {
          "base_uri": "https://localhost:8080/"
        },
        "id": "NU85MuN9HEAZ",
        "outputId": "583f29c2-4c02-4852-c55a-0174933c42cf"
      },
      "source": [
        "f=open('/content/covid.txt','r',errors= 'ignore')\n",
        "raw=f.read()\n",
        "raw=raw.lower()\n",
        "nltk.download('punkt')\n",
        "nltk.download('wordnet')\n",
        "sent_tokens=nltk.sent_tokenize(raw)   #converts to list of sentences\n",
        "word_tokens=nltk.word_tokenize(raw)   #converts to lists of words\n"
      ],
      "execution_count": 3,
      "outputs": [
        {
          "output_type": "stream",
          "text": [
            "[nltk_data] Downloading package punkt to /root/nltk_data...\n",
            "[nltk_data]   Unzipping tokenizers/punkt.zip.\n",
            "[nltk_data] Downloading package wordnet to /root/nltk_data...\n",
            "[nltk_data]   Unzipping corpora/wordnet.zip.\n"
          ],
          "name": "stdout"
        }
      ]
    },
    {
      "cell_type": "code",
      "metadata": {
        "colab": {
          "base_uri": "https://localhost:8080/"
        },
        "id": "ESCK6ZnDHHuN",
        "outputId": "7ac9eced-aa94-46d1-b957-e9e9e5034590"
      },
      "source": [
        "sent_tokens[:2]    #prints first two sentances"
      ],
      "execution_count": 4,
      "outputs": [
        {
          "output_type": "execute_result",
          "data": {
            "text/plain": [
              "['covid 19 disease = coronavirus disease 2019 (covid-19) is a contagious respiratory and vascular disease[9] caused by severe acute respiratory syndrome coronavirus 2 (sars-cov-2).',\n",
              " 'the first case was identified in wuhan, china in december 2019, though evidence suggests that the virus may have already been actively spreading months earlier in places such as italy.']"
            ]
          },
          "metadata": {
            "tags": []
          },
          "execution_count": 4
        }
      ]
    },
    {
      "cell_type": "code",
      "metadata": {
        "colab": {
          "base_uri": "https://localhost:8080/"
        },
        "id": "TiP1zZtdHfOE",
        "outputId": "e68b37b0-1a5d-40c7-838a-eb6993e78d32"
      },
      "source": [
        "word_tokens[:2]  #check first two words"
      ],
      "execution_count": 5,
      "outputs": [
        {
          "output_type": "execute_result",
          "data": {
            "text/plain": [
              "['covid', '19']"
            ]
          },
          "metadata": {
            "tags": []
          },
          "execution_count": 5
        }
      ]
    },
    {
      "cell_type": "code",
      "metadata": {
        "id": "iDp4S1aZHjPA"
      },
      "source": [
        "lemmer = nltk.stem.WordNetLemmatizer()\n",
        "def LemTokens(tokens):\n",
        "    return [lemmer.lemmatize(token) for token in tokens]\n",
        "remove_punct_dict = dict((ord(punct),None) for punct in string.punctuation)\n",
        "def LemNormalize(text):\n",
        "    return LemTokens(nltk.word_tokenize(text.lower().translate(remove_punct_dict)))   #removing all punctuations\n"
      ],
      "execution_count": 6,
      "outputs": []
    },
    {
      "cell_type": "code",
      "metadata": {
        "id": "yEUfkEYfHnvU"
      },
      "source": [
        "GREETING_INPUTS = (\"hello\",\"hi\",\"what's up\",\"hey\",\"howdy\",\"greetings\",)\n",
        "GREETING_RESPONSES= [\"hi\",\"hey\",\"nods\",\"Hey There!\",\"Hello Mate!\",\"I am Glad that you are talking to me\"]\n",
        "def greeting(sentence):\n",
        "    for word in sentence.split():\n",
        "        if word.lower() in GREETING_INPUTS:\n",
        "            return random.choice(GREETING_RESPONSES)"
      ],
      "execution_count": 7,
      "outputs": []
    },
    {
      "cell_type": "code",
      "metadata": {
        "id": "wDJY4iiwHrwX"
      },
      "source": [
        "from sklearn.feature_extraction.text import TfidfVectorizer\n",
        "from sklearn.metrics.pairwise import cosine_similarity "
      ],
      "execution_count": 8,
      "outputs": []
    },
    {
      "cell_type": "code",
      "metadata": {
        "id": "6oN0MY9bHvpA"
      },
      "source": [
        "def response(user_response):\n",
        "    chatbot_response = ''\n",
        "    sent_tokens.append(user_response)\n",
        "    TfidfVec = TfidfVectorizer(tokenizer=LemNormalize,stop_words = 'english')\n",
        "    tfidf = TfidfVec.fit_transform(sent_tokens)\n",
        "    vals = cosine_similarity(tfidf[-1],tfidf)\n",
        "    idx=vals.argsort()[0][-2]\n",
        "    flat=vals.flatten()\n",
        "    flat.sort()\n",
        "    req_tfidf = flat[-2]\n",
        "    if(req_tfidf==0):\n",
        "        chatbot_response = chatbot_response+\"I am so sorry! I don't understand what you asking as well as I don't have intel on that:)\"\n",
        "        return chatbot_response\n",
        "    else:\n",
        "        chatbot_response = chatbot_response +sent_tokens[idx]\n",
        "        return chatbot_response\n",
        "    "
      ],
      "execution_count": 9,
      "outputs": []
    },
    {
      "cell_type": "code",
      "metadata": {
        "colab": {
          "base_uri": "https://localhost:8080/"
        },
        "id": "9I6yxmW5H0Jd",
        "outputId": "22270e66-5b0c-4e07-f837-765a04516933"
      },
      "source": [
        "flag=True\n",
        "print(\"Chatbot: My name is ChatBot! I will try to answer your quaries about corona-virus. My knowledge is limited but precise. So now ask me questions if you have any...    If you dont have questions then type (bye!) to exit:)\")\n",
        "while(flag==True):\n",
        "    user_response=input()\n",
        "    user_response=user_response.lower()\n",
        "    if(user_response!='bye' or user_response!='bye!'):\n",
        "      if(user_response=='thanks' or user_response=='thank you'):\n",
        "            flag=False\n",
        "            print(\"chatbot: You are welcome...\")\n",
        "      else:\n",
        "            if(greeting(user_response)!=None):\n",
        "                print(\"chatbot: \"+greeting(user_response))\n",
        "            else:\n",
        "                print(\"Chatbot: \",end=\"\")\n",
        "                print(response(user_response))\n",
        "                sent_tokens.remove(user_response)\n",
        "    else:\n",
        "        flag=False\n",
        "        print(\"Chatbot: Bye! Had good time wihile conversating with you...\")\n"
      ],
      "execution_count": 10,
      "outputs": [
        {
          "output_type": "stream",
          "text": [
            "Chatbot: My name is ChatBot! I will try to answer your quaries about corona-virus. My knowledge is limited but precise. So now ask me questions if you have any...    If you dont have questions then type (bye!) to exit:)\n",
            "hello\n",
            "chatbot: nods\n",
            "howdy\n",
            "chatbot: hi\n",
            "hi\n",
            "chatbot: I am Glad that you are talking to me\n",
            "what is covid 19\n",
            "Chatbot: covid 19 disease = coronavirus disease 2019 (covid-19) is a contagious respiratory and vascular disease[9] caused by severe acute respiratory syndrome coronavirus 2 (sars-cov-2).\n",
            "what is SARS\n",
            "Chatbot: [414] this strategy was tried for sars with inconclusive results.\n",
            "causes of corona\n",
            "Chatbot: [62]\n",
            "\n",
            "another common cause of death is complications related to the kidneys.\n",
            "thank you\n",
            "chatbot: You are welcome...\n"
          ],
          "name": "stdout"
        }
      ]
    },
    {
      "cell_type": "code",
      "metadata": {
        "id": "IseL895iH4hZ"
      },
      "source": [
        ""
      ],
      "execution_count": null,
      "outputs": []
    }
  ]
}